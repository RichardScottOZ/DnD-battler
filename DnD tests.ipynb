{
 "cells": [
  {
   "cell_type": "code",
   "execution_count": 1,
   "metadata": {},
   "outputs": [],
   "source": [
    "import re\n",
    "\n",
    "notation = 'd3'\n"
   ]
  },
  {
   "cell_type": "code",
   "execution_count": 1,
   "metadata": {},
   "outputs": [],
   "source": [
    "from DnD import Dice, AbilityDie, SkillRoll, AttackRoll"
   ]
  },
  {
   "cell_type": "code",
   "execution_count": 2,
   "metadata": {},
   "outputs": [],
   "source": [
    "dice = Dice.from_notation('2d6+3')"
   ]
  },
  {
   "cell_type": "code",
   "execution_count": 4,
   "metadata": {},
   "outputs": [
    {
     "data": {
      "text/plain": [
       "50.3437"
      ]
     },
     "execution_count": 4,
     "metadata": {},
     "output_type": "execute_result"
    }
   ],
   "source": [
    "import numpy as np\n",
    "\n",
    "def dice_variance(d):\n",
    "    a = np.array(list(map(d.roll, range(10_000))))\n",
    "    return a.mean()\n",
    "    \n",
    "dice_variance(Dice(num_faces=[100]))"
   ]
  },
  {
   "cell_type": "code",
   "execution_count": 78,
   "metadata": {},
   "outputs": [
    {
     "name": "stdout",
     "output_type": "stream",
     "text": [
      "0 2\n",
      "1 2\n",
      "2 2\n",
      "3 2\n",
      "4 2\n",
      "5 3\n",
      "6 3\n",
      "7 3\n",
      "8 3\n",
      "9 4\n",
      "10 4\n",
      "11 4\n",
      "12 4\n",
      "13 5\n",
      "14 5\n",
      "15 5\n",
      "16 5\n",
      "17 6\n",
      "18 6\n",
      "19 6\n"
     ]
    }
   ],
   "source": [
    "for i in range(20):\n",
    "    print(i, )"
   ]
  },
  {
   "cell_type": "code",
   "execution_count": 5,
   "metadata": {},
   "outputs": [
    {
     "data": {
      "text/plain": [
       "False"
      ]
     },
     "execution_count": 5,
     "metadata": {},
     "output_type": "execute_result"
    }
   ],
   "source": [
    "able = AbilityDie()\n",
    "max([able.roll(success_on_crit=False) for i in range(50)]) == float('inf')"
   ]
  },
  {
   "cell_type": "code",
   "execution_count": 71,
   "metadata": {},
   "outputs": [
    {
     "data": {
      "text/plain": [
       "0.0779"
      ]
     },
     "execution_count": 71,
     "metadata": {},
     "output_type": "execute_result"
    }
   ],
   "source": [
    "sum([attack.roll(advantage=-1) == 5 for i in range(10000)]) / 10000"
   ]
  },
  {
   "cell_type": "code",
   "execution_count": 67,
   "metadata": {},
   "outputs": [
    {
     "data": {
      "text/plain": [
       "(0, 1, 0)"
      ]
     },
     "execution_count": 67,
     "metadata": {},
     "output_type": "execute_result"
    }
   ],
   "source": [
    "attack.ability_die.bonus, attack.ability_die.proficiency.bonus, attack.modifier"
   ]
  },
  {
   "cell_type": "code",
   "execution_count": 63,
   "metadata": {},
   "outputs": [
    {
     "data": {
      "text/plain": [
       "0.0"
      ]
     },
     "execution_count": 63,
     "metadata": {},
     "output_type": "execute_result"
    }
   ],
   "source": [
    "sum([attack.base_roll(advantage=0) == 2 for i in range(10000)])/10000 "
   ]
  },
  {
   "cell_type": "code",
   "execution_count": 4,
   "metadata": {},
   "outputs": [
    {
     "data": {
      "text/plain": [
       "11"
      ]
     },
     "execution_count": 4,
     "metadata": {},
     "output_type": "execute_result"
    }
   ],
   "source": [
    "able.base_roll(advantage=-1)"
   ]
  },
  {
   "cell_type": "code",
   "execution_count": 6,
   "metadata": {},
   "outputs": [],
   "source": [
    "\n",
    "    \n",
    "class Foo:\n",
    "    \n",
    "    def foo(self):\n",
    "        return 'foo'"
   ]
  },
  {
   "cell_type": "code",
   "execution_count": 82,
   "metadata": {},
   "outputs": [
    {
     "data": {
      "text/plain": [
       "{'a': 2}"
      ]
     },
     "execution_count": 82,
     "metadata": {},
     "output_type": "execute_result"
    }
   ],
   "source": [
    "{'a': 1, **{'a': 2}}"
   ]
  },
  {
   "cell_type": "code",
   "execution_count": 83,
   "metadata": {},
   "outputs": [
    {
     "data": {
      "text/plain": [
       "['red',\n",
       " 'blue',\n",
       " 'green',\n",
       " 'orange',\n",
       " 'yellow',\n",
       " 'lime',\n",
       " 'cyan',\n",
       " 'violet',\n",
       " 'ultraviolet',\n",
       " 'pink',\n",
       " 'brown',\n",
       " 'black',\n",
       " 'white',\n",
       " 'octarine',\n",
       " 'teal',\n",
       " 'magenta',\n",
       " 'blue-green',\n",
       " 'fuchsia',\n",
       " 'purple',\n",
       " 'cream',\n",
       " 'grey']"
      ]
     },
     "execution_count": 83,
     "metadata": {},
     "output_type": "execute_result"
    }
   ],
   "source": [
    "'red blue green orange yellow lime cyan violet ultraviolet pink brown black white octarine teal magenta blue-green fuchsia purple cream grey'.split(\n",
    "            ' ')"
   ]
  },
  {
   "cell_type": "code",
   "execution_count": 96,
   "metadata": {},
   "outputs": [],
   "source": [
    "import logging, io\n",
    "\n",
    "stream = io.StringIO('foo')\n",
    "log = logging.getLogger('foo')\n",
    "log.addHandler(logging.StreamHandler(stream))\n",
    "\n",
    "stream2 = io.StringIO('bar')\n",
    "log2 = logging.getLogger('bar')\n",
    "log2.addHandler(logging.StreamHandler(stream2))\n",
    "\n",
    "log.info('bing')\n",
    "log.error('Xorg')\n",
    "log.error('Xorg')"
   ]
  },
  {
   "cell_type": "code",
   "execution_count": 102,
   "metadata": {},
   "outputs": [
    {
     "data": {
      "text/plain": [
       "10"
      ]
     },
     "execution_count": 102,
     "metadata": {},
     "output_type": "execute_result"
    }
   ],
   "source": [
    "class Foo:\n",
    "    bar = property(lambda self: 'bar', lambda self, value: )\n"
   ]
  },
  {
   "cell_type": "code",
   "execution_count": 97,
   "metadata": {},
   "outputs": [
    {
     "data": {
      "text/plain": [
       "'Xorg\\nXorg\\n'"
      ]
     },
     "execution_count": 97,
     "metadata": {},
     "output_type": "execute_result"
    }
   ],
   "source": [
    "stream.seek(0)\n",
    "stream.read()"
   ]
  },
  {
   "cell_type": "code",
   "execution_count": 52,
   "metadata": {},
   "outputs": [
    {
     "data": {
      "text/plain": [
       "{'twinned': None,\n",
       " 'role': 'damage',\n",
       " 'critable': 0,\n",
       " 'bonus': 0,\n",
       " 'num_faces': [20],\n",
       " 'advantage': 0,\n",
       " 'crit': 0,\n",
       " 'avg': False}"
      ]
     },
     "execution_count": 52,
     "metadata": {},
     "output_type": "execute_result"
    }
   ],
   "source": [
    "from copy import deepcopy\n",
    "\n",
    "d2 = deepcopy(d)\n",
    "d2.num_faces = [20]\n",
    "\n",
    "d2.__dict__"
   ]
  },
  {
   "cell_type": "code",
   "execution_count": 78,
   "metadata": {},
   "outputs": [
    {
     "data": {
      "text/plain": [
       "132"
      ]
     },
     "execution_count": 78,
     "metadata": {},
     "output_type": "execute_result"
    }
   ],
   "source": [
    "d.crit = 1\n",
    "d.multiroll()"
   ]
  },
  {
   "cell_type": "code",
   "execution_count": 79,
   "metadata": {},
   "outputs": [
    {
     "ename": "ValueError",
     "evalue": "invalid literal for int() with base 10: 'inf'",
     "output_type": "error",
     "traceback": [
      "\u001b[0;31m---------------------------------------------------------------------------\u001b[0m",
      "\u001b[0;31mValueError\u001b[0m                                Traceback (most recent call last)",
      "\u001b[0;32m<ipython-input-79-f859f82dc24a>\u001b[0m in \u001b[0;36m<module>\u001b[0;34m\u001b[0m\n\u001b[0;32m----> 1\u001b[0;31m \u001b[0mint\u001b[0m\u001b[0;34m(\u001b[0m\u001b[0;34m'inf'\u001b[0m\u001b[0;34m)\u001b[0m\u001b[0;34m\u001b[0m\u001b[0;34m\u001b[0m\u001b[0m\n\u001b[0m",
      "\u001b[0;31mValueError\u001b[0m: invalid literal for int() with base 10: 'inf'"
     ]
    }
   ],
   "source": [
    "def cast_barkskin(self):\n",
    "    if self.concentrating == 0:\n",
    "        self.temp = self.armor.ac\n",
    "        self.armor.ac = 16\n",
    "        self.concentrating = 1\n",
    "    elif self.concentrating == 1:\n",
    "        self.armor.ac = self.temp\n",
    "        self.concentrating = 0\n",
    "        \n",
    "        \n",
    "class Spell:\n",
    "    def __init__(self, is_concentration=True, duration:int=1):\n",
    "        self.is_concentration = is_concentration\n",
    "        self.duration\n",
    "    \n",
    "    def cast(self):\n",
    "        pass\n",
    "    \n",
    "    def stop(self):\n",
    "        self.concentrating = 0"
   ]
  },
  {
   "cell_type": "code",
   "execution_count": 34,
   "metadata": {},
   "outputs": [
    {
     "ename": "AttackRangeError",
     "evalue": "The attack is out of range (10)",
     "output_type": "error",
     "traceback": [
      "\u001b[0;31m---------------------------------------------------------------------------\u001b[0m",
      "\u001b[0;31mAttackRangeError\u001b[0m                          Traceback (most recent call last)",
      "\u001b[0;32m<ipython-input-34-893c426a3578>\u001b[0m in \u001b[0;36m<module>\u001b[0;34m\u001b[0m\n\u001b[1;32m     13\u001b[0m         \u001b[0msuper\u001b[0m\u001b[0;34m(\u001b[0m\u001b[0;34m)\u001b[0m\u001b[0;34m.\u001b[0m\u001b[0m__init__\u001b[0m\u001b[0;34m(\u001b[0m\u001b[0;34mf'The attack is out of range ({self.range})'\u001b[0m\u001b[0;34m)\u001b[0m\u001b[0;34m\u001b[0m\u001b[0;34m\u001b[0m\u001b[0m\n\u001b[1;32m     14\u001b[0m \u001b[0;34m\u001b[0m\u001b[0m\n\u001b[0;32m---> 15\u001b[0;31m \u001b[0;32mraise\u001b[0m \u001b[0mAttackRangeError\u001b[0m\u001b[0;34m(\u001b[0m\u001b[0;36m10\u001b[0m\u001b[0;34m)\u001b[0m\u001b[0;34m\u001b[0m\u001b[0;34m\u001b[0m\u001b[0m\n\u001b[0m",
      "\u001b[0;31mAttackRangeError\u001b[0m: The attack is out of range (10)"
     ]
    }
   ],
   "source": [
    "class ActionError(Exception):\n",
    "    \"\"\"\n",
    "    The attempted action could not be done.\n",
    "    \"\"\"\n",
    "    pass\n",
    "\n",
    "class AttackRangeError(ActionError):\n",
    "    \"\"\"\n",
    "    The attempted attack could not be done.\n",
    "    \"\"\"\n",
    "    def __init__(self, range:int):\n",
    "        self.range = range\n",
    "        super().__init__(f'The attack is out of range ({self.range} ft)')\n",
    "        \n",
    "raise AttackRangeError(10)"
   ]
  },
  {
   "cell_type": "code",
   "execution_count": null,
   "metadata": {},
   "outputs": [],
   "source": [
    "class Spell:\n",
    "    \n",
    "    def __init__(self, on_fx, off_fx):\n",
    "        self.concentrating = 0 # not concentrating\n",
    "        self.max_concentrating = 1  # magic items allow multiconcentration...\n",
    "        self.on_fx = None\n",
    "        self.off_fx = None\n",
    "        \n",
    "    def cast(self, activate:Callable, deactivate:Callable):\n",
    "        if self.concentrating <= self.max_concentrating:\n",
    "            raise Exception\n",
    "        self.on_fx = activate"
   ]
  },
  {
   "cell_type": "code",
   "execution_count": 6,
   "metadata": {},
   "outputs": [
    {
     "data": {
      "text/plain": [
       "'Achilles'"
      ]
     },
     "execution_count": 6,
     "metadata": {},
     "output_type": "execute_result"
    }
   ],
   "source": [
    "class Concentration:\n",
    "    \n",
    "    def __init__(self, on_fx, off_fx):\n",
    "        self.concentrating = 0 # not concentrating\n",
    "        self.max_concentrating = 1  # magic items allow multiconcentration...\n",
    "        self.on_fx = None\n",
    "        self.off_fx = None\n",
    "        \n",
    "    def cast(self, activate:Callable, deactivate:Callable):\n",
    "        if self.concentrating <= self.max_concentrating:\n",
    "            raise Exception\n",
    "        self.on_fx = activate"
   ]
  },
  {
   "cell_type": "code",
   "execution_count": null,
   "metadata": {},
   "outputs": [],
   "source": [
    "    def on_damage(self, attacker, opponent, amount:int):\n",
    "        \"\"\"\n",
    "        Method to be overridden. called on damage.\n",
    "        \n",
    "        :param attacker: who delt the damage\n",
    "        :type attacker: Creature\n",
    "        :param opponent: to whom the damage was delt\n",
    "        :type opponent: Creature\n",
    "        :param amount: \n",
    "        :return: \n",
    "        \"\"\"\n",
    "        pass"
   ]
  },
  {
   "cell_type": "code",
   "execution_count": 35,
   "metadata": {},
   "outputs": [],
   "source": [
    "class AttackType(Enum):\n",
    "    MELEE = 1\n",
    "    RANGED = 2\n",
    "    TARGET_SPELL = 3\n",
    "    AOE_SPELL = 4"
   ]
  },
  {
   "cell_type": "code",
   "execution_count": 54,
   "metadata": {},
   "outputs": [],
   "source": [
    "class AttackType(Enum):\n",
    "    # I hate uppercase Enum convension.\n",
    "    melee = 1\n",
    "    ranged = 2\n",
    "    target_spell = 3\n",
    "    aoe_spell = 4"
   ]
  },
  {
   "cell_type": "code",
   "execution_count": 57,
   "metadata": {},
   "outputs": [],
   "source": [
    "m = AttackType['melee']"
   ]
  },
  {
   "cell_type": "code",
   "execution_count": 47,
   "metadata": {},
   "outputs": [],
   "source": [
    "m.name = "
   ]
  },
  {
   "cell_type": "code",
   "execution_count": 48,
   "metadata": {},
   "outputs": [
    {
     "data": {
      "text/plain": [
       "<TargetChoice.enemy_dead_random: (-1, -1, 1)>"
      ]
     },
     "execution_count": 48,
     "metadata": {},
     "output_type": "execute_result"
    }
   ],
   "source": [
    "TargetChoice['enemy_dead_random']"
   ]
  },
  {
   "cell_type": "code",
   "execution_count": 53,
   "metadata": {},
   "outputs": [
    {
     "data": {
      "text/plain": [
       "True"
      ]
     },
     "execution_count": 53,
     "metadata": {},
     "output_type": "execute_result"
    }
   ],
   "source": [
    "isinstance((1,2), (list, tuple))"
   ]
  },
  {
   "cell_type": "code",
   "execution_count": null,
   "metadata": {},
   "outputs": [],
   "source": []
  }
 ],
 "metadata": {
  "kernelspec": {
   "display_name": "Python 3",
   "language": "python",
   "name": "python3"
  },
  "language_info": {
   "codemirror_mode": {
    "name": "ipython",
    "version": 3
   },
   "file_extension": ".py",
   "mimetype": "text/x-python",
   "name": "python",
   "nbconvert_exporter": "python",
   "pygments_lexer": "ipython3",
   "version": "3.7.5"
  }
 },
 "nbformat": 4,
 "nbformat_minor": 2
}
