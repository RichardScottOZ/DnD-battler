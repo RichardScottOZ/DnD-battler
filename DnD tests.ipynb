{
 "cells": [
  {
   "cell_type": "code",
   "execution_count": 1,
   "metadata": {},
   "outputs": [],
   "source": [
    "import re\n",
    "\n",
    "notation = 'd3'"
   ]
  },
  {
   "cell_type": "code",
   "execution_count": 2,
   "metadata": {},
   "outputs": [],
   "source": [
    "from DnD_battler import Dice, AbilityDie, SkillRoll, AttackRoll"
   ]
  },
  {
   "cell_type": "code",
   "execution_count": 3,
   "metadata": {},
   "outputs": [],
   "source": [
    "dice = Dice.from_notation('2d6+3')"
   ]
  },
  {
   "cell_type": "code",
   "execution_count": 4,
   "metadata": {},
   "outputs": [
    {
     "data": {
      "text/plain": [
       "50.2263"
      ]
     },
     "execution_count": 4,
     "metadata": {},
     "output_type": "execute_result"
    }
   ],
   "source": [
    "import numpy as np\n",
    "\n",
    "def dice_variance(d):\n",
    "    a = np.array(list(map(d.roll, range(10_000))))\n",
    "    return a.mean()\n",
    "    \n",
    "dice_variance(Dice(num_faces=[100]))"
   ]
  },
  {
   "cell_type": "code",
   "execution_count": 2,
   "metadata": {},
   "outputs": [
    {
     "name": "stdout",
     "output_type": "stream",
     "text": [
      "Mismatch with ability con: bonus=0, score=15\n",
      "Legacy type attack params (list) given: ['tentacle', 9, 5, 6, 6]\n",
      "Legacy type attack params (list) given: ['tentacle', 9, 5, 6, 6]\n",
      "Legacy type attack params (list) given: ['tentacle', 9, 5, 6, 6]\n",
      "8\n",
      "['AttackType.melee \"multiattack\" of aboleth']\n",
      "Mismatch with ability str: bonus=0, score=4\n",
      "Mismatch with ability int: bonus=0, score=2\n",
      "Mismatch with ability cha: bonus=0, score=5\n",
      "Legacy type attack params (list) given: ['bite', 2, 0, 1]\n",
      "================================================== Encounter ==================================================\n",
      "Prediction unavailable for more than 2 teams--------------------------------------------------------------------------------------------------------------\n",
      "Battles: 0; Sum of rounds: 0; \n",
      "> Team unaligned  = winning battles: 0; perfect battles: 0; close-call battles: 0;\n",
      "------------------------------------------------- Combattants  ------------------------------------------------\n",
      "badger: UNTESTED IN BATTLE\n",
      "\n"
     ]
    }
   ],
   "source": [
    "from DnD_battler import Creature, Encounter, log\n",
    "import logging\n",
    "log.handlers[0].setLevel(logging.DEBUG)\n",
    "\n",
    "aboleth = Creature.load('aboleth') # get from beastiary\n",
    "level1 = Creature(name=\"buff peseant\", \n",
    "                  abilities = {'str': 15,'dex': 14,'con':13,'int':12,'wis':10,'cha': 8}, \n",
    "                  alignment =\"good\", \n",
    "                  attack_parameters='longsword')\n",
    "print(list(map(str, aboleth.actions)))\n",
    "\n",
    "from DnD_battler import Encounter\n",
    "\n",
    "print(Encounter('badger'))"
   ]
  },
  {
   "cell_type": "code",
   "execution_count": 1,
   "metadata": {},
   "outputs": [
    {
     "name": "stdout",
     "output_type": "stream",
     "text": [
      "Mismatch with ability dex: bonus=0, score=8\n",
      "Mismatch with ability wis: bonus=0, score=8\n",
      "Mismatch with ability int: bonus=0, score=2\n",
      "Mismatch with ability cha: bonus=0, score=7\n"
     ]
    },
    {
     "ename": "AttributeError",
     "evalue": "'MeleeAttack' object has no attribute 'attack'",
     "output_type": "error",
     "traceback": [
      "\u001b[0;31m---------------------------------------------------------------------------\u001b[0m",
      "\u001b[0;31mAttributeError\u001b[0m                            Traceback (most recent call last)",
      "\u001b[0;32m/var/folders/c8/7hcbs7sx56z3bqg9vqhd7c0r0000gp/T/ipykernel_27326/3757767403.py\u001b[0m in \u001b[0;36m<module>\u001b[0;34m\u001b[0m\n\u001b[1;32m      3\u001b[0m \u001b[0mbillbybob2\u001b[0m \u001b[0;34m=\u001b[0m \u001b[0mCreature\u001b[0m\u001b[0;34m.\u001b[0m\u001b[0mload\u001b[0m\u001b[0;34m(\u001b[0m\u001b[0;34m'basilisk'\u001b[0m\u001b[0;34m)\u001b[0m\u001b[0;34m\u001b[0m\u001b[0;34m\u001b[0m\u001b[0m\n\u001b[1;32m      4\u001b[0m \u001b[0marena2\u001b[0m \u001b[0;34m=\u001b[0m \u001b[0mEncounter\u001b[0m\u001b[0;34m(\u001b[0m\u001b[0mlevel1\u001b[0m\u001b[0;34m,\u001b[0m \u001b[0mbillbybob2\u001b[0m\u001b[0;34m)\u001b[0m\u001b[0;34m\u001b[0m\u001b[0;34m\u001b[0m\u001b[0m\n\u001b[0;32m----> 5\u001b[0;31m \u001b[0mprint\u001b[0m\u001b[0;34m(\u001b[0m\u001b[0marena2\u001b[0m\u001b[0;34m.\u001b[0m\u001b[0mbattle\u001b[0m\u001b[0;34m(\u001b[0m\u001b[0;34m)\u001b[0m\u001b[0;34m)\u001b[0m\u001b[0;34m\u001b[0m\u001b[0;34m\u001b[0m\u001b[0m\n\u001b[0m",
      "\u001b[0;32m~/Coding/dnd/battler-dev/DnD_battler/encounter/_action.py\u001b[0m in \u001b[0;36mbattle\u001b[0;34m(self, reset)\u001b[0m\n\u001b[1;32m    106\u001b[0m                         \u001b[0mself\u001b[0m\u001b[0;34m.\u001b[0m\u001b[0mactive\u001b[0m \u001b[0;34m=\u001b[0m \u001b[0mcharacter\u001b[0m\u001b[0;34m\u001b[0m\u001b[0;34m\u001b[0m\u001b[0m\n\u001b[1;32m    107\u001b[0m                         \u001b[0mcharacter\u001b[0m\u001b[0;34m.\u001b[0m\u001b[0mtally\u001b[0m\u001b[0;34m[\u001b[0m\u001b[0;34m'rounds'\u001b[0m\u001b[0;34m]\u001b[0m \u001b[0;34m+=\u001b[0m \u001b[0;36m1\u001b[0m\u001b[0;34m\u001b[0m\u001b[0;34m\u001b[0m\u001b[0m\n\u001b[0;32m--> 108\u001b[0;31m                         \u001b[0mcharacter\u001b[0m\u001b[0;34m.\u001b[0m\u001b[0mact\u001b[0m\u001b[0;34m(\u001b[0m\u001b[0;34m)\u001b[0m\u001b[0;34m\u001b[0m\u001b[0;34m\u001b[0m\u001b[0m\n\u001b[0m\u001b[1;32m    109\u001b[0m                     \u001b[0;32melse\u001b[0m\u001b[0;34m:\u001b[0m\u001b[0;34m\u001b[0m\u001b[0;34m\u001b[0m\u001b[0m\n\u001b[1;32m    110\u001b[0m                         \u001b[0mcharacter\u001b[0m\u001b[0;34m.\u001b[0m\u001b[0mtally\u001b[0m\u001b[0;34m[\u001b[0m\u001b[0;34m'dead'\u001b[0m\u001b[0;34m]\u001b[0m \u001b[0;34m+=\u001b[0m \u001b[0;36m1\u001b[0m\u001b[0;34m\u001b[0m\u001b[0;34m\u001b[0m\u001b[0m\n",
      "\u001b[0;32m~/Coding/dnd/battler-dev/DnD_battler/creature/_action.py\u001b[0m in \u001b[0;36mact\u001b[0;34m(self)\u001b[0m\n\u001b[1;32m    164\u001b[0m                 \u001b[0mself\u001b[0m\u001b[0;34m.\u001b[0m\u001b[0mmultiattack\u001b[0m\u001b[0;34m(\u001b[0m\u001b[0;34m)\u001b[0m\u001b[0;34m\u001b[0m\u001b[0;34m\u001b[0m\u001b[0m\n\u001b[1;32m    165\u001b[0m         \u001b[0;32melse\u001b[0m\u001b[0;34m:\u001b[0m\u001b[0;34m\u001b[0m\u001b[0;34m\u001b[0m\u001b[0m\n\u001b[0;32m--> 166\u001b[0;31m             \u001b[0mself\u001b[0m\u001b[0;34m.\u001b[0m\u001b[0mmultiattack\u001b[0m\u001b[0;34m(\u001b[0m\u001b[0;34m)\u001b[0m\u001b[0;34m\u001b[0m\u001b[0;34m\u001b[0m\u001b[0m\n\u001b[0m",
      "\u001b[0;32m~/Coding/dnd/battler-dev/DnD_battler/creature/_action.py\u001b[0m in \u001b[0;36mmultiattack\u001b[0;34m(self, assess)\u001b[0m\n\u001b[1;32m    108\u001b[0m             \u001b[0mself\u001b[0m\u001b[0;34m.\u001b[0m\u001b[0mlog\u001b[0m\u001b[0;34m.\u001b[0m\u001b[0mdebug\u001b[0m\u001b[0;34m(\u001b[0m\u001b[0;34mf\"{self.name} attacks {opponent.name} with {self.attacks[i].name}\"\u001b[0m\u001b[0;34m)\u001b[0m\u001b[0;34m\u001b[0m\u001b[0;34m\u001b[0m\u001b[0m\n\u001b[1;32m    109\u001b[0m             \u001b[0;31m# This was the hit method. put here for now.\u001b[0m\u001b[0;34m\u001b[0m\u001b[0;34m\u001b[0m\u001b[0;34m\u001b[0m\u001b[0m\n\u001b[0;32m--> 110\u001b[0;31m             \u001b[0mdamage\u001b[0m \u001b[0;34m=\u001b[0m \u001b[0mself\u001b[0m\u001b[0;34m.\u001b[0m\u001b[0mattacks\u001b[0m\u001b[0;34m[\u001b[0m\u001b[0mi\u001b[0m\u001b[0;34m]\u001b[0m\u001b[0;34m.\u001b[0m\u001b[0mattack\u001b[0m\u001b[0;34m(\u001b[0m\u001b[0mopponent\u001b[0m\u001b[0;34m.\u001b[0m\u001b[0marmor\u001b[0m\u001b[0;34m.\u001b[0m\u001b[0mac\u001b[0m\u001b[0;34m,\u001b[0m \u001b[0madvantage\u001b[0m\u001b[0;34m=\u001b[0m\u001b[0mself\u001b[0m\u001b[0;34m.\u001b[0m\u001b[0mcheck_advantage\u001b[0m\u001b[0;34m(\u001b[0m\u001b[0mopponent\u001b[0m\u001b[0;34m)\u001b[0m\u001b[0;34m)\u001b[0m\u001b[0;34m\u001b[0m\u001b[0;34m\u001b[0m\u001b[0m\n\u001b[0m\u001b[1;32m    111\u001b[0m             \u001b[0;32mif\u001b[0m \u001b[0mdamage\u001b[0m \u001b[0;34m>\u001b[0m \u001b[0;36m0\u001b[0m\u001b[0;34m:\u001b[0m\u001b[0;34m\u001b[0m\u001b[0;34m\u001b[0m\u001b[0m\n\u001b[1;32m    112\u001b[0m                 \u001b[0mopponent\u001b[0m\u001b[0;34m.\u001b[0m\u001b[0mtake_damage\u001b[0m\u001b[0;34m(\u001b[0m\u001b[0mdamage\u001b[0m\u001b[0;34m)\u001b[0m\u001b[0;34m\u001b[0m\u001b[0;34m\u001b[0m\u001b[0m\n",
      "\u001b[0;31mAttributeError\u001b[0m: 'MeleeAttack' object has no attribute 'attack'"
     ]
    }
   ],
   "source": [
    "from DnD_battler import Creature, Encounter\n",
    "level1 = Creature(name=\"buff peasant1\", abilities = {'str': 15,'dex': 14,'con':13,'int':12,'wis':10,'cha': 8}, alignment =\"good\", attack_parameters=[['longsword', 4, 2, 8]])\n",
    "billbybob2 = Creature.load('basilisk')\n",
    "arena2 = Encounter(level1, billbybob2)\n",
    "print(arena2.battle())"
   ]
  },
  {
   "cell_type": "code",
   "execution_count": 5,
   "metadata": {},
   "outputs": [
    {
     "data": {
      "text/plain": [
       "'Encounter'"
      ]
     },
     "execution_count": 5,
     "metadata": {},
     "output_type": "execute_result"
    }
   ],
   "source": []
  },
  {
   "cell_type": "code",
   "execution_count": 5,
   "metadata": {},
   "outputs": [
    {
     "data": {
      "text/plain": [
       "False"
      ]
     },
     "execution_count": 5,
     "metadata": {},
     "output_type": "execute_result"
    }
   ],
   "source": [
    "able = AbilityDie()\n",
    "max([able.roll(success_on_crit=False) for i in range(50)]) == float('inf')"
   ]
  },
  {
   "cell_type": "code",
   "execution_count": 6,
   "metadata": {},
   "outputs": [
    {
     "ename": "NameError",
     "evalue": "name 'attack' is not defined",
     "output_type": "error",
     "traceback": [
      "\u001b[0;31m---------------------------------------------------------------------------\u001b[0m",
      "\u001b[0;31mNameError\u001b[0m                                 Traceback (most recent call last)",
      "\u001b[0;32m/var/folders/c8/7hcbs7sx56z3bqg9vqhd7c0r0000gp/T/ipykernel_23277/1997742670.py\u001b[0m in \u001b[0;36m<module>\u001b[0;34m\u001b[0m\n\u001b[0;32m----> 1\u001b[0;31m \u001b[0msum\u001b[0m\u001b[0;34m(\u001b[0m\u001b[0;34m[\u001b[0m\u001b[0mattack\u001b[0m\u001b[0;34m.\u001b[0m\u001b[0mroll\u001b[0m\u001b[0;34m(\u001b[0m\u001b[0madvantage\u001b[0m\u001b[0;34m=\u001b[0m\u001b[0;34m-\u001b[0m\u001b[0;36m1\u001b[0m\u001b[0;34m)\u001b[0m \u001b[0;34m==\u001b[0m \u001b[0;36m5\u001b[0m \u001b[0;32mfor\u001b[0m \u001b[0mi\u001b[0m \u001b[0;32min\u001b[0m \u001b[0mrange\u001b[0m\u001b[0;34m(\u001b[0m\u001b[0;36m10000\u001b[0m\u001b[0;34m)\u001b[0m\u001b[0;34m]\u001b[0m\u001b[0;34m)\u001b[0m \u001b[0;34m/\u001b[0m \u001b[0;36m10000\u001b[0m\u001b[0;34m\u001b[0m\u001b[0;34m\u001b[0m\u001b[0m\n\u001b[0m",
      "\u001b[0;32m/var/folders/c8/7hcbs7sx56z3bqg9vqhd7c0r0000gp/T/ipykernel_23277/1997742670.py\u001b[0m in \u001b[0;36m<listcomp>\u001b[0;34m(.0)\u001b[0m\n\u001b[0;32m----> 1\u001b[0;31m \u001b[0msum\u001b[0m\u001b[0;34m(\u001b[0m\u001b[0;34m[\u001b[0m\u001b[0mattack\u001b[0m\u001b[0;34m.\u001b[0m\u001b[0mroll\u001b[0m\u001b[0;34m(\u001b[0m\u001b[0madvantage\u001b[0m\u001b[0;34m=\u001b[0m\u001b[0;34m-\u001b[0m\u001b[0;36m1\u001b[0m\u001b[0;34m)\u001b[0m \u001b[0;34m==\u001b[0m \u001b[0;36m5\u001b[0m \u001b[0;32mfor\u001b[0m \u001b[0mi\u001b[0m \u001b[0;32min\u001b[0m \u001b[0mrange\u001b[0m\u001b[0;34m(\u001b[0m\u001b[0;36m10000\u001b[0m\u001b[0;34m)\u001b[0m\u001b[0;34m]\u001b[0m\u001b[0;34m)\u001b[0m \u001b[0;34m/\u001b[0m \u001b[0;36m10000\u001b[0m\u001b[0;34m\u001b[0m\u001b[0;34m\u001b[0m\u001b[0m\n\u001b[0m",
      "\u001b[0;31mNameError\u001b[0m: name 'attack' is not defined"
     ]
    }
   ],
   "source": [
    "sum([attack.roll(advantage=-1) == 5 for i in range(10000)]) / 10000"
   ]
  },
  {
   "cell_type": "code",
   "execution_count": 67,
   "metadata": {},
   "outputs": [
    {
     "data": {
      "text/plain": [
       "(0, 1, 0)"
      ]
     },
     "execution_count": 67,
     "metadata": {},
     "output_type": "execute_result"
    }
   ],
   "source": [
    "attack.ability_die.bonus, attack.ability_die.proficiency.bonus, attack.modifier"
   ]
  },
  {
   "cell_type": "code",
   "execution_count": 63,
   "metadata": {},
   "outputs": [
    {
     "data": {
      "text/plain": [
       "0.0"
      ]
     },
     "execution_count": 63,
     "metadata": {},
     "output_type": "execute_result"
    }
   ],
   "source": [
    "sum([attack.base_roll(advantage=0) == 2 for i in range(10000)])/10000 "
   ]
  },
  {
   "cell_type": "code",
   "execution_count": 4,
   "metadata": {},
   "outputs": [
    {
     "data": {
      "text/plain": [
       "11"
      ]
     },
     "execution_count": 4,
     "metadata": {},
     "output_type": "execute_result"
    }
   ],
   "source": [
    "able.base_roll(advantage=-1)"
   ]
  },
  {
   "cell_type": "code",
   "execution_count": 96,
   "metadata": {},
   "outputs": [],
   "source": [
    "import logging, io\n",
    "\n",
    "stream = io.StringIO('foo')\n",
    "log = logging.getLogger('foo')\n",
    "log.addHandler(logging.StreamHandler(stream))\n",
    "\n",
    "stream2 = io.StringIO('bar')\n",
    "log2 = logging.getLogger('bar')\n",
    "log2.addHandler(logging.StreamHandler(stream2))\n",
    "\n",
    "log.info('bing')\n",
    "log.error('Xorg')\n",
    "log.error('Xorg')"
   ]
  },
  {
   "cell_type": "code",
   "execution_count": 102,
   "metadata": {},
   "outputs": [
    {
     "data": {
      "text/plain": [
       "10"
      ]
     },
     "execution_count": 102,
     "metadata": {},
     "output_type": "execute_result"
    }
   ],
   "source": [
    "class Foo:\n",
    "    bar = property(lambda self: 'bar', lambda self, value: )\n"
   ]
  },
  {
   "cell_type": "code",
   "execution_count": 97,
   "metadata": {},
   "outputs": [
    {
     "data": {
      "text/plain": [
       "'Xorg\\nXorg\\n'"
      ]
     },
     "execution_count": 97,
     "metadata": {},
     "output_type": "execute_result"
    }
   ],
   "source": [
    "stream.seek(0)\n",
    "stream.read()"
   ]
  },
  {
   "cell_type": "code",
   "execution_count": 52,
   "metadata": {},
   "outputs": [
    {
     "data": {
      "text/plain": [
       "{'twinned': None,\n",
       " 'role': 'damage',\n",
       " 'critable': 0,\n",
       " 'bonus': 0,\n",
       " 'num_faces': [20],\n",
       " 'advantage': 0,\n",
       " 'crit': 0,\n",
       " 'avg': False}"
      ]
     },
     "execution_count": 52,
     "metadata": {},
     "output_type": "execute_result"
    }
   ],
   "source": [
    "from copy import deepcopy\n",
    "\n",
    "d2 = deepcopy(d)\n",
    "d2.num_faces = [20]\n",
    "\n",
    "d2.__dict__"
   ]
  },
  {
   "cell_type": "code",
   "execution_count": 78,
   "metadata": {},
   "outputs": [
    {
     "data": {
      "text/plain": [
       "132"
      ]
     },
     "execution_count": 78,
     "metadata": {},
     "output_type": "execute_result"
    }
   ],
   "source": [
    "d.crit = 1\n",
    "d.multiroll()"
   ]
  },
  {
   "cell_type": "code",
   "execution_count": 79,
   "metadata": {},
   "outputs": [
    {
     "ename": "ValueError",
     "evalue": "invalid literal for int() with base 10: 'inf'",
     "output_type": "error",
     "traceback": [
      "\u001b[0;31m---------------------------------------------------------------------------\u001b[0m",
      "\u001b[0;31mValueError\u001b[0m                                Traceback (most recent call last)",
      "\u001b[0;32m<ipython-input-79-f859f82dc24a>\u001b[0m in \u001b[0;36m<module>\u001b[0;34m\u001b[0m\n\u001b[0;32m----> 1\u001b[0;31m \u001b[0mint\u001b[0m\u001b[0;34m(\u001b[0m\u001b[0;34m'inf'\u001b[0m\u001b[0;34m)\u001b[0m\u001b[0;34m\u001b[0m\u001b[0;34m\u001b[0m\u001b[0m\n\u001b[0m",
      "\u001b[0;31mValueError\u001b[0m: invalid literal for int() with base 10: 'inf'"
     ]
    }
   ],
   "source": [
    "def cast_barkskin(self):\n",
    "    if self.concentrating == 0:\n",
    "        self.temp = self.armor.ac\n",
    "        self.armor.ac = 16\n",
    "        self.concentrating = 1\n",
    "    elif self.concentrating == 1:\n",
    "        self.armor.ac = self.temp\n",
    "        self.concentrating = 0\n",
    "        \n",
    "        \n",
    "class Spell:\n",
    "    def __init__(self, is_concentration=True, duration:int=1):\n",
    "        self.is_concentration = is_concentration\n",
    "        self.duration\n",
    "    \n",
    "    def cast(self):\n",
    "        pass\n",
    "    \n",
    "    def stop(self):\n",
    "        self.concentrating = 0"
   ]
  },
  {
   "cell_type": "code",
   "execution_count": 34,
   "metadata": {},
   "outputs": [
    {
     "ename": "AttackRangeError",
     "evalue": "The attack is out of range (10)",
     "output_type": "error",
     "traceback": [
      "\u001b[0;31m---------------------------------------------------------------------------\u001b[0m",
      "\u001b[0;31mAttackRangeError\u001b[0m                          Traceback (most recent call last)",
      "\u001b[0;32m<ipython-input-34-893c426a3578>\u001b[0m in \u001b[0;36m<module>\u001b[0;34m\u001b[0m\n\u001b[1;32m     13\u001b[0m         \u001b[0msuper\u001b[0m\u001b[0;34m(\u001b[0m\u001b[0;34m)\u001b[0m\u001b[0;34m.\u001b[0m\u001b[0m__init__\u001b[0m\u001b[0;34m(\u001b[0m\u001b[0;34mf'The attack is out of range ({self.range})'\u001b[0m\u001b[0;34m)\u001b[0m\u001b[0;34m\u001b[0m\u001b[0;34m\u001b[0m\u001b[0m\n\u001b[1;32m     14\u001b[0m \u001b[0;34m\u001b[0m\u001b[0m\n\u001b[0;32m---> 15\u001b[0;31m \u001b[0;32mraise\u001b[0m \u001b[0mAttackRangeError\u001b[0m\u001b[0;34m(\u001b[0m\u001b[0;36m10\u001b[0m\u001b[0;34m)\u001b[0m\u001b[0;34m\u001b[0m\u001b[0;34m\u001b[0m\u001b[0m\n\u001b[0m",
      "\u001b[0;31mAttackRangeError\u001b[0m: The attack is out of range (10)"
     ]
    }
   ],
   "source": [
    "class ActionError(Exception):\n",
    "    \"\"\"\n",
    "    The attempted action could not be done.\n",
    "    \"\"\"\n",
    "    pass\n",
    "\n",
    "class AttackRangeError(ActionError):\n",
    "    \"\"\"\n",
    "    The attempted attack could not be done.\n",
    "    \"\"\"\n",
    "    def __init__(self, range:int):\n",
    "        self.range = range\n",
    "        super().__init__(f'The attack is out of range ({self.range} ft)')\n",
    "        \n",
    "raise AttackRangeError(10)"
   ]
  },
  {
   "cell_type": "code",
   "execution_count": null,
   "metadata": {},
   "outputs": [],
   "source": [
    "class Spell:\n",
    "    \n",
    "    def __init__(self, on_fx, off_fx):\n",
    "        self.concentrating = 0 # not concentrating\n",
    "        self.max_concentrating = 1  # magic items allow multiconcentration...\n",
    "        self.on_fx = None\n",
    "        self.off_fx = None\n",
    "        \n",
    "    def cast(self, activate:Callable, deactivate:Callable):\n",
    "        if self.concentrating <= self.max_concentrating:\n",
    "            raise Exception\n",
    "        self.on_fx = activate"
   ]
  },
  {
   "cell_type": "code",
   "execution_count": 6,
   "metadata": {},
   "outputs": [
    {
     "data": {
      "text/plain": [
       "'Achilles'"
      ]
     },
     "execution_count": 6,
     "metadata": {},
     "output_type": "execute_result"
    }
   ],
   "source": [
    "class Concentration:\n",
    "    \n",
    "    def __init__(self, on_fx, off_fx):\n",
    "        self.concentrating = 0 # not concentrating\n",
    "        self.max_concentrating = 1  # magic items allow multiconcentration...\n",
    "        self.on_fx = None\n",
    "        self.off_fx = None\n",
    "        \n",
    "    def cast(self, activate:Callable, deactivate:Callable):\n",
    "        if self.concentrating <= self.max_concentrating:\n",
    "            raise Exception\n",
    "        self.on_fx = activate"
   ]
  },
  {
   "cell_type": "code",
   "execution_count": null,
   "metadata": {},
   "outputs": [],
   "source": [
    "    def on_damage(self, attacker, opponent, amount:int):\n",
    "        \"\"\"\n",
    "        Method to be overridden. called on damage.\n",
    "        \n",
    "        :param attacker: who delt the damage\n",
    "        :type attacker: Creature\n",
    "        :param opponent: to whom the damage was delt\n",
    "        :type opponent: Creature\n",
    "        :param amount: \n",
    "        :return: \n",
    "        \"\"\"\n",
    "        pass"
   ]
  },
  {
   "cell_type": "code",
   "execution_count": 35,
   "metadata": {},
   "outputs": [],
   "source": [
    "class AttackType(Enum):\n",
    "    MELEE = 1\n",
    "    RANGED = 2\n",
    "    TARGET_SPELL = 3\n",
    "    AOE_SPELL = 4"
   ]
  },
  {
   "cell_type": "code",
   "execution_count": 54,
   "metadata": {},
   "outputs": [],
   "source": [
    "class AttackType(Enum):\n",
    "    # I hate uppercase Enum convension.\n",
    "    melee = 1\n",
    "    ranged = 2\n",
    "    target_spell = 3\n",
    "    aoe_spell = 4"
   ]
  },
  {
   "cell_type": "code",
   "execution_count": 57,
   "metadata": {},
   "outputs": [],
   "source": [
    "m = AttackType['melee']"
   ]
  },
  {
   "cell_type": "code",
   "execution_count": 47,
   "metadata": {},
   "outputs": [],
   "source": [
    "m.name = "
   ]
  },
  {
   "cell_type": "code",
   "execution_count": 48,
   "metadata": {},
   "outputs": [
    {
     "data": {
      "text/plain": [
       "<TargetChoice.enemy_dead_random: (-1, -1, 1)>"
      ]
     },
     "execution_count": 48,
     "metadata": {},
     "output_type": "execute_result"
    }
   ],
   "source": [
    "TargetChoice['enemy_dead_random']"
   ]
  },
  {
   "cell_type": "code",
   "execution_count": 53,
   "metadata": {},
   "outputs": [
    {
     "data": {
      "text/plain": [
       "True"
      ]
     },
     "execution_count": 53,
     "metadata": {},
     "output_type": "execute_result"
    }
   ],
   "source": [
    "isinstance((1,2), (list, tuple))"
   ]
  },
  {
   "cell_type": "code",
   "execution_count": null,
   "metadata": {},
   "outputs": [],
   "source": []
  }
 ],
 "metadata": {
  "kernelspec": {
   "display_name": "Python 3 (ipykernel)",
   "language": "python",
   "name": "python3"
  },
  "language_info": {
   "codemirror_mode": {
    "name": "ipython",
    "version": 3
   },
   "file_extension": ".py",
   "mimetype": "text/x-python",
   "name": "python",
   "nbconvert_exporter": "python",
   "pygments_lexer": "ipython3",
   "version": "3.7.6"
  }
 },
 "nbformat": 4,
 "nbformat_minor": 2
}
